{
 "cells": [
  {
   "cell_type": "markdown",
   "metadata": {},
   "source": [
    "# Fundamentos de Python3"
   ]
  },
  {
   "cell_type": "markdown",
   "metadata": {},
   "source": [
    "## Primer programa (mostrar en pantalla)"
   ]
  },
  {
   "cell_type": "code",
   "execution_count": 10,
   "metadata": {},
   "outputs": [
    {
     "name": "stdout",
     "output_type": "stream",
     "text": [
      "Hello World!\n"
     ]
    }
   ],
   "source": [
    "print('Hello World!')"
   ]
  },
  {
   "cell_type": "markdown",
   "metadata": {},
   "source": [
    "### Un adelanto de funciones"
   ]
  },
  {
   "cell_type": "markdown",
   "metadata": {},
   "source": [
    "En python (y en la mayoría de los lenguajes de programación) una función es un **bloque de código reutilizable que realiza una acción**. Existen *funciones elementales*, las cuales proporciona el lenguaje como print, y *funciones definidas por el usuario*.\n",
    "\n",
    "La función print es muy similar al comando **echo** de Unix, ya que toma el argumento y lo muestra en pantalla."
   ]
  },
  {
   "cell_type": "markdown",
   "metadata": {},
   "source": [
    "### Variables"
   ]
  },
  {
   "cell_type": "markdown",
   "metadata": {},
   "source": [
    "Una variable es una locación de memoria identificada por una dirección de memoria y ligada a un nombre simbolico. En python las variables se pueden nombrar con base en las siguientes reglas:\n",
    "* Pueden contener letras, números y guines bajos\n",
    "* Tienen que empezar con una letra o guion bajo\n",
    "* No se permiten espacios\n",
    "\n",
    "Se recomienda:\n",
    "* que se use el guion bajo para separar palabras:\n",
    "    * dog_name\n",
    "* que sean descriptivas de lo que estan almacenando"
   ]
  },
  {
   "cell_type": "code",
   "execution_count": 11,
   "metadata": {},
   "outputs": [],
   "source": [
    "perro = 'Molly'"
   ]
  },
  {
   "cell_type": "code",
   "execution_count": 12,
   "metadata": {},
   "outputs": [
    {
     "name": "stdout",
     "output_type": "stream",
     "text": [
      "Molly\n"
     ]
    }
   ],
   "source": [
    "print(perro)"
   ]
  },
  {
   "cell_type": "markdown",
   "metadata": {},
   "source": [
    "#### Ejercicio 1:\n",
    "1. Guarda un mensaje en una variable e imprimelo\n",
    "2. Guarda un mensaje en una variable, imprimelo, cambia el valor de la variable y vuelve a imprimirlo"
   ]
  },
  {
   "cell_type": "markdown",
   "metadata": {},
   "source": [
    "## Tipos de datos en python"
   ]
  },
  {
   "cell_type": "markdown",
   "metadata": {},
   "source": [
    "### Strings (cadenas de texto)\n",
    "Una cadena es una secuencia de caracteres. Se declara entre apostrofes o comillas"
   ]
  },
  {
   "cell_type": "code",
   "execution_count": 14,
   "metadata": {},
   "outputs": [
    {
     "data": {
      "text/plain": [
       "'Mensaje simple #1'"
      ]
     },
     "execution_count": 14,
     "metadata": {},
     "output_type": "execute_result"
    }
   ],
   "source": [
    "'Mensaje simple #1'"
   ]
  },
  {
   "cell_type": "code",
   "execution_count": 15,
   "metadata": {},
   "outputs": [
    {
     "data": {
      "text/plain": [
       "'Cadena de texto 123'"
      ]
     },
     "execution_count": 15,
     "metadata": {},
     "output_type": "execute_result"
    }
   ],
   "source": [
    "\"Cadena de texto 123\""
   ]
  },
  {
   "cell_type": "markdown",
   "metadata": {},
   "source": [
    "## Utilizando texto con salto de línea"
   ]
  },
  {
   "cell_type": "markdown",
   "metadata": {},
   "source": [
    "Si se desea utilizar texto que contenga saltos de línea (\\n), es necesario poner el texto entre triples comillas"
   ]
  },
  {
   "cell_type": "code",
   "execution_count": 30,
   "metadata": {},
   "outputs": [
    {
     "ename": "SyntaxError",
     "evalue": "EOL while scanning string literal (<ipython-input-30-b0c39f638b34>, line 1)",
     "output_type": "error",
     "traceback": [
      "\u001b[0;36m  File \u001b[0;32m\"<ipython-input-30-b0c39f638b34>\"\u001b[0;36m, line \u001b[0;32m1\u001b[0m\n\u001b[0;31m    saludo = 'Hola\u001b[0m\n\u001b[0m                  ^\u001b[0m\n\u001b[0;31mSyntaxError\u001b[0m\u001b[0;31m:\u001b[0m EOL while scanning string literal\n"
     ]
    }
   ],
   "source": [
    "saludo = 'Hola\n",
    "Como estas?'\n",
    "print(saludo)"
   ]
  },
  {
   "cell_type": "markdown",
   "metadata": {},
   "source": [
    "Se marca un error porque no se utilizó triples comillas"
   ]
  },
  {
   "cell_type": "code",
   "execution_count": 31,
   "metadata": {},
   "outputs": [
    {
     "name": "stdout",
     "output_type": "stream",
     "text": [
      "Hola\n",
      "como estas\n"
     ]
    }
   ],
   "source": [
    "saludo = \"\"\"Hola\n",
    "como estas\"\"\"\n",
    "print(saludo)"
   ]
  },
  {
   "cell_type": "markdown",
   "metadata": {},
   "source": [
    "### F-Strings (interpolación)"
   ]
  },
  {
   "cell_type": "markdown",
   "metadata": {},
   "source": [
    "Las f-strings sirven para combinar expresiones dentro de una cadena. Se le agrega el prefijo 'f' a una cadena y dentro de esta, se utilizan corchetes para agregar expresiones de la siguiente forma:\n",
    "<h1><center>f\"{expresion}\"</h1></center>"
   ]
  },
  {
   "cell_type": "code",
   "execution_count": 21,
   "metadata": {},
   "outputs": [
    {
     "name": "stdout",
     "output_type": "stream",
     "text": [
      "Molly El perro\n"
     ]
    }
   ],
   "source": [
    "mensaje_1 = 'Molly'\n",
    "mensaje_2 = 'El perro'\n",
    "enunciado = f\"{mensaje_1} {mensaje_2}\"\n",
    "print(enunciado)"
   ]
  },
  {
   "cell_type": "markdown",
   "metadata": {},
   "source": [
    "### Tipos númericos\n",
    "\n",
    "Python tiene diferentes formas de tratar tipos númericos de datos:\n",
    "* Enteros: son los numeros que no contienen una parte decimal\n",
    "    * pueden ser positivos o negativos\n",
    "* Flotantes\n",
    "    * Contienen un punto decimal (números reales)\n",
    "\n"
   ]
  },
  {
   "cell_type": "code",
   "execution_count": 30,
   "metadata": {},
   "outputs": [
    {
     "name": "stdout",
     "output_type": "stream",
     "text": [
      "Your score is 100, congratulations\n"
     ]
    }
   ],
   "source": [
    "score = 100\n",
    "print(f\"Your score is {score}, congratulations\")"
   ]
  },
  {
   "cell_type": "code",
   "execution_count": 31,
   "metadata": {},
   "outputs": [
    {
     "name": "stdout",
     "output_type": "stream",
     "text": [
      "Aprobaste con 7.6!!\n"
     ]
    }
   ],
   "source": [
    "calif_aprobatoria = 7.6\n",
    "print(f\"Aprobaste con {calif_aprobatoria}!!\")"
   ]
  },
  {
   "cell_type": "markdown",
   "metadata": {},
   "source": [
    "### Operadores\n",
    "* +: Suma\n",
    "* -: Substracción\n",
    "* *: Producto\n",
    "* /: División\n",
    "* //: División entera\n",
    "* %: Módulo"
   ]
  },
  {
   "cell_type": "code",
   "execution_count": 33,
   "metadata": {},
   "outputs": [
    {
     "name": "stdout",
     "output_type": "stream",
     "text": [
      "Tu calificacion es 10\n"
     ]
    }
   ],
   "source": [
    "calif_base = 9\n",
    "puntos_extra = 1\n",
    "calif_final = calif_base + puntos_extra\n",
    "print(f\"Tu calificacion es {calif_final}\")"
   ]
  },
  {
   "cell_type": "code",
   "execution_count": 46,
   "metadata": {},
   "outputs": [
    {
     "name": "stdout",
     "output_type": "stream",
     "text": [
      "Calif = 8.833333333333334\n"
     ]
    }
   ],
   "source": [
    "print(f\"Calif = {(95/6)-7}\")"
   ]
  },
  {
   "cell_type": "code",
   "execution_count": 45,
   "metadata": {},
   "outputs": [
    {
     "name": "stdout",
     "output_type": "stream",
     "text": [
      "Calif = 8\n"
     ]
    }
   ],
   "source": [
    "print(f\"Calif = {(90//6)-7}\")"
   ]
  },
  {
   "cell_type": "markdown",
   "metadata": {},
   "source": [
    "## El zen de python"
   ]
  },
  {
   "cell_type": "code",
   "execution_count": 47,
   "metadata": {},
   "outputs": [
    {
     "name": "stdout",
     "output_type": "stream",
     "text": [
      "The Zen of Python, by Tim Peters\n",
      "\n",
      "Beautiful is better than ugly.\n",
      "Explicit is better than implicit.\n",
      "Simple is better than complex.\n",
      "Complex is better than complicated.\n",
      "Flat is better than nested.\n",
      "Sparse is better than dense.\n",
      "Readability counts.\n",
      "Special cases aren't special enough to break the rules.\n",
      "Although practicality beats purity.\n",
      "Errors should never pass silently.\n",
      "Unless explicitly silenced.\n",
      "In the face of ambiguity, refuse the temptation to guess.\n",
      "There should be one-- and preferably only one --obvious way to do it.\n",
      "Although that way may not be obvious at first unless you're Dutch.\n",
      "Now is better than never.\n",
      "Although never is often better than *right* now.\n",
      "If the implementation is hard to explain, it's a bad idea.\n",
      "If the implementation is easy to explain, it may be a good idea.\n",
      "Namespaces are one honking great idea -- let's do more of those!\n"
     ]
    }
   ],
   "source": [
    "import this"
   ]
  },
  {
   "cell_type": "markdown",
   "metadata": {},
   "source": [
    "# Introducción a la programación con Python 3"
   ]
  },
  {
   "cell_type": "markdown",
   "metadata": {},
   "source": [
    "##  Elementos de lenguajes de programación"
   ]
  },
  {
   "cell_type": "markdown",
   "metadata": {},
   "source": [
    "* **Un programa** es un conjunto de instruccinoes que una vez ejecutadas realizarán una o varias tareas en una computadora\n",
    "    * Un programa contiene instrucciones elementales seleccionadas cuidadosamente que pueden ser realizadas por un procesador\n",
    "    * Se ha probado que para implementar cualquier algoritmo, son suficientes tres construcciones básicas para control de flujo:\n",
    "        1. Secuencial\n",
    "        2. Condicional\n",
    "        3. Ciclos iterativos\n",
    "    "
   ]
  },
  {
   "cell_type": "markdown",
   "metadata": {},
   "source": [
    "### Ejecución secuencial"
   ]
  },
  {
   "cell_type": "markdown",
   "metadata": {},
   "source": [
    "Consiste en ejecutar una instrucción y al terminar, realizar lo que indica el siguiente paso del algoritmo"
   ]
  },
  {
   "cell_type": "markdown",
   "metadata": {},
   "source": [
    "## Ejercicios\n",
    "1. Escribe un programa que tomando el como variables el año, identificador y descripcion de los siguientes CVES:\n",
    "    * https://cve.mitre.org/cgi-bin/cvename.cgi?name=CVE-2017-0144\n",
    "    * https://cve.mitre.org/cgi-bin/cvename.cgi?name=CVE-2019-0708\n",
    "   Muestren la siguiente cadena de texto: \n",
    "        <h1><center>[+] CVE-<año>-<identificador>: Descripcion </h1></center>\n",
    "   Ejemplo:\n",
    "    <h1><center>[+] CVE-2014-0160: The (1) TLS and (2) DTLS... </center></h1>\n",
    "2. Escribe un programa que calcule el area de un triangulo equilatero\n"
   ]
  },
  {
   "cell_type": "markdown",
   "metadata": {},
   "source": [
    "## Solución  - Ejercicio 1"
   ]
  },
  {
   "cell_type": "code",
   "execution_count": 8,
   "metadata": {},
   "outputs": [
    {
     "name": "stdout",
     "output_type": "stream",
     "text": [
      "[+] CVE-\n"
     ]
    }
   ],
   "source": [
    "print(\"[+] CVE-\")"
   ]
  },
  {
   "cell_type": "code",
   "execution_count": 12,
   "metadata": {},
   "outputs": [
    {
     "name": "stdout",
     "output_type": "stream",
     "text": [
      "[+] CVE-2017\n"
     ]
    }
   ],
   "source": [
    "year = 2017\n",
    "print(f\"[+] CVE-{year}\")"
   ]
  },
  {
   "cell_type": "code",
   "execution_count": 13,
   "metadata": {},
   "outputs": [
    {
     "name": "stdout",
     "output_type": "stream",
     "text": [
      "[+] CVE-2017-0\n"
     ]
    }
   ],
   "source": [
    "year = 2017\n",
    "print(f\"[+] CVE-{year}-0\")"
   ]
  },
  {
   "cell_type": "code",
   "execution_count": 14,
   "metadata": {},
   "outputs": [
    {
     "name": "stdout",
     "output_type": "stream",
     "text": [
      "[+] CVE-2017-0144\n"
     ]
    }
   ],
   "source": [
    "year = 2017\n",
    "vuln_id = 144\n",
    "print(f\"[+] CVE-{year}-0{vuln_id}\")"
   ]
  },
  {
   "cell_type": "code",
   "execution_count": 28,
   "metadata": {},
   "outputs": [
    {
     "name": "stdout",
     "output_type": "stream",
     "text": [
      "[+] CVE-2017-0144: The SMBv1 server in Microsoft Windows Vista SP2; Windows Server 2008 SP2 and R2 SP1; Windows 7 SP1; Windows 8.1; Windows Server 2012 Gold and R2; Windows RT 8.1; and Windows 10 Gold, 1511, and 1607; and Windows Server 2016 allows remote attackers to execute arbitrary code via crafted packets, aka \"Windows SMB Remote Code Execution Vulnerability.\" This vulnerability is different from those described in CVE-2017-0143, CVE-2017-0145, CVE-2017-0146, and CVE-2017-0148.\n",
      "\n"
     ]
    }
   ],
   "source": [
    "year = 2017\n",
    "vuln_id = 144\n",
    "description = \"\"\"The SMBv1 server in Microsoft Windows Vista SP2; Windows Server 2008 SP2 and R2 SP1; Windows 7 SP1; Windows 8.1; Windows Server 2012 Gold and R2; Windows RT 8.1; and Windows 10 Gold, 1511, and 1607; and Windows Server 2016 allows remote attackers to execute arbitrary code via crafted packets, aka \"Windows SMB Remote Code Execution Vulnerability.\" This vulnerability is different from those described in CVE-2017-0143, CVE-2017-0145, CVE-2017-0146, and CVE-2017-0148.\n",
    "\"\"\"\n",
    "print(f\"[+] CVE-{year}-0{vuln_id}: {description}\")"
   ]
  }
 ],
 "metadata": {
  "kernelspec": {
   "display_name": "Python 3",
   "language": "python",
   "name": "python3"
  },
  "language_info": {
   "codemirror_mode": {
    "name": "ipython",
    "version": 3
   },
   "file_extension": ".py",
   "mimetype": "text/x-python",
   "name": "python",
   "nbconvert_exporter": "python",
   "pygments_lexer": "ipython3",
   "version": "3.7.6"
  }
 },
 "nbformat": 4,
 "nbformat_minor": 4
}
