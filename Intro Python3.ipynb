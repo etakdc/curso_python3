{
 "cells": [
  {
   "cell_type": "markdown",
   "metadata": {},
   "source": [
    "# Fundamentos de Python3"
   ]
  },
  {
   "cell_type": "markdown",
   "metadata": {},
   "source": [
    "## Primer programa (mostrar en pantalla)"
   ]
  },
  {
   "cell_type": "code",
   "execution_count": 1,
   "metadata": {},
   "outputs": [],
   "source": [
    "print('Hello World!')"
   ]
  },
  {
   "cell_type": "markdown",
   "metadata": {},
   "source": [
    "### Un adelanto de funciones"
   ]
  },
  {
   "cell_type": "markdown",
   "metadata": {},
   "source": [
    "En python (y en la mayoría de los lenguajes de programación) una función es un **bloque de código reutilizable que realiza una acción**. Existen *funciones elementales*, las cuales proporciona el lenguaje como print, y *funciones definidas por el usuario*.\n",
    "\n",
    "La función print es muy similar al comando **echo** de Unix, ya que toma el argumento y lo muestra en pantalla."
   ]
  },
  {
   "cell_type": "markdown",
   "metadata": {},
   "source": [
    "### Variables"
   ]
  },
  {
   "cell_type": "markdown",
   "metadata": {},
   "source": [
    "Una variable es una locación de memoria identificada por una dirección de memoria y ligada a un nombre simbolico. En python las variables se pueden nombrar con base en las siguientes reglas:\n",
    "* Pueden contener letras, números y guines bajos\n",
    "* Tienen que empezar con una letra o guion bajo\n",
    "* No se permiten espacios\n",
    "\n",
    "Se recomienda:\n",
    "* que se use el guion bajo para separar palabras:\n",
    "    * dog_name\n",
    "* que sean descriptivas de lo que estan almacenando"
   ]
  },
  {
   "cell_type": "code",
   "execution_count": 2,
   "metadata": {},
   "outputs": [],
   "source": [
    "perro = 'Molly'"
   ]
  },
  {
   "cell_type": "code",
   "execution_count": 3,
   "metadata": {},
   "outputs": [],
   "source": [
    "print(perro)"
   ]
  },
  {
   "cell_type": "markdown",
   "metadata": {},
   "source": [
    "#### Ejercicio 1:\n",
    "1. Guarda un mensaje en una variable e imprimelo\n",
    "2. Guarda un mensaje en una variable, imprimelo, cambia el valor de la variable y vuelve a imprimirlo"
   ]
  },
  {
   "cell_type": "markdown",
   "metadata": {},
   "source": [
    "## Tipos de datos en python"
   ]
  },
  {
   "cell_type": "markdown",
   "metadata": {},
   "source": [
    "### Definición informal de un objeto"
   ]
  },
  {
   "cell_type": "markdown",
   "metadata": {},
   "source": [
    "Aunque la definición de objeto es un tema que se introduce más adelante en los cursos, basta con saber que cuando se hace mención a la palabra objeto se refiere a:\n",
    "\n",
    "* Un concepto elemental del paradigma de la programación orientada a objetos\n",
    "* De forma más general, a un elemento del modelo de datos del lenguaje python donde todas las cosas proporcionadas al programador como tipos de datos, funciones y estructuras de datos entre muchos otros son un objeto\n",
    "\n",
    "Un objeto puede tener operaciones (métodos) y atributos asociados a el"
   ]
  },
  {
   "cell_type": "markdown",
   "metadata": {},
   "source": [
    "### Strings (cadenas de texto)\n",
    "Una cadena es una secuencia de caracteres. Se declara entre apostrofes o comillas"
   ]
  },
  {
   "cell_type": "code",
   "execution_count": 4,
   "metadata": {},
   "outputs": [],
   "source": [
    "'Mensaje simple #1'"
   ]
  },
  {
   "cell_type": "code",
   "execution_count": 5,
   "metadata": {},
   "outputs": [],
   "source": [
    "\"Cadena de texto 123\""
   ]
  },
  {
   "cell_type": "markdown",
   "metadata": {},
   "source": [
    "## Utilizando texto con salto de línea"
   ]
  },
  {
   "cell_type": "markdown",
   "metadata": {},
   "source": [
    "Si se desea utilizar texto que contenga saltos de línea (\\n), es necesario poner el texto entre triples comillas"
   ]
  },
  {
   "cell_type": "code",
   "execution_count": 6,
   "metadata": {},
   "outputs": [],
   "source": [
    "saludo = 'Hola\n",
    "Como estas?'\n",
    "print(saludo)"
   ]
  },
  {
   "cell_type": "markdown",
   "metadata": {},
   "source": [
    "Se marca un error porque no se utilizó triples comillas"
   ]
  },
  {
   "cell_type": "code",
   "execution_count": null,
   "metadata": {},
   "outputs": [],
   "source": [
    "saludo = \"\"\"Hola\n",
    "como estas\"\"\"\n",
    "print(saludo)"
   ]
  },
  {
   "cell_type": "markdown",
   "metadata": {},
   "source": [
    "### F-Strings (interpolación)"
   ]
  },
  {
   "cell_type": "markdown",
   "metadata": {},
   "source": [
    "Las f-strings sirven para combinar expresiones dentro de una cadena. Se le agrega el prefijo 'f' a una cadena y dentro de esta, se utilizan corchetes para agregar expresiones de la siguiente forma:\n",
    "<h1><center>f\"{expresion}\"</h1></center>"
   ]
  },
  {
   "cell_type": "code",
   "execution_count": null,
   "metadata": {},
   "outputs": [],
   "source": [
    "mensaje_1 = 'Molly'\n",
    "mensaje_2 = 'El perro'\n",
    "enunciado = f\"{mensaje_1} {mensaje_2}\"\n",
    "print(enunciado)"
   ]
  },
  {
   "cell_type": "markdown",
   "metadata": {},
   "source": [
    "### Tipos númericos\n",
    "\n",
    "Python tiene diferentes formas de tratar tipos númericos de datos:\n",
    "* Enteros: son los numeros que no contienen una parte decimal\n",
    "    * pueden ser positivos o negativos\n",
    "* Flotantes\n",
    "    * Contienen un punto decimal (números reales)\n",
    "\n"
   ]
  },
  {
   "cell_type": "code",
   "execution_count": null,
   "metadata": {},
   "outputs": [],
   "source": [
    "score = 100\n",
    "print(f\"Your score is {score}, congratulations\")"
   ]
  },
  {
   "cell_type": "code",
   "execution_count": 7,
   "metadata": {},
   "outputs": [
    {
     "name": "stdout",
     "output_type": "stream",
     "text": [
      "Aprobaste con 7.6!!\n"
     ]
    }
   ],
   "source": [
    "calif_aprobatoria = 7.6\n",
    "print(f\"Aprobaste con {calif_aprobatoria}!!\")"
   ]
  },
  {
   "cell_type": "markdown",
   "metadata": {},
   "source": [
    "### Operadores Aritméticos\n",
    "* +: Suma\n",
    "* -: Substracción\n",
    "* *: Producto\n",
    "* /: División\n",
    "* //: División entera\n",
    "* %: Módulo\n",
    "* ** Exponenciación"
   ]
  },
  {
   "cell_type": "code",
   "execution_count": 8,
   "metadata": {},
   "outputs": [
    {
     "name": "stdout",
     "output_type": "stream",
     "text": [
      "Tu calificacion es 10\n"
     ]
    }
   ],
   "source": [
    "calif_base = 9\n",
    "puntos_extra = 1\n",
    "calif_final = calif_base + puntos_extra\n",
    "print(f\"Tu calificacion es {calif_final}\")"
   ]
  },
  {
   "cell_type": "code",
   "execution_count": 9,
   "metadata": {},
   "outputs": [
    {
     "name": "stdout",
     "output_type": "stream",
     "text": [
      "Calif = 8.833333333333334\n"
     ]
    }
   ],
   "source": [
    "print(f\"Calif = {(95/6)-7}\")"
   ]
  },
  {
   "cell_type": "code",
   "execution_count": 10,
   "metadata": {},
   "outputs": [
    {
     "name": "stdout",
     "output_type": "stream",
     "text": [
      "Calif = 8\n"
     ]
    }
   ],
   "source": [
    "print(f\"Calif = {(90//6)-7}\")"
   ]
  },
  {
   "cell_type": "markdown",
   "metadata": {},
   "source": [
    "### Tipos Booleanos"
   ]
  },
  {
   "cell_type": "markdown",
   "metadata": {},
   "source": [
    "En python3 existen diferentes formas de probar la veracidad de una expresión, esto es saber si una expresión puede evaluarse como falsa o verdadera. <b>Python3 cuenta con dos constantes elementales para calificar la veracidad de una expresión: True y False</b>\n",
    "\n",
    "* True: cuando una expresión es verdadera, el resultado es esta constante. True puede operarse de forma númerica como 1.\n",
    "* False: cuando una expresión es falsa, el resultado es esta constante. False puede operarse de forma númerica como 0."
   ]
  },
  {
   "cell_type": "markdown",
   "metadata": {},
   "source": [
    "### Operadores lógicos"
   ]
  },
  {
   "cell_type": "markdown",
   "metadata": {},
   "source": [
    "Cuando se busca realizar alguna comparación entre constantes o variables, se utilizan los siguientes operadores, los cuales <b>resultarán en las constantes True o False</b>\n",
    "\n",
    "* '>' (Mayor que)\n",
    "* '<' (Menor que)\n",
    "* '==' (Igual a)\n",
    "* '!=' (Diferente)\n",
    "* '>=' (Mayor o igual que)\n",
    "* '<=' (Menor o igual que)"
   ]
  },
  {
   "cell_type": "code",
   "execution_count": 11,
   "metadata": {},
   "outputs": [
    {
     "name": "stdout",
     "output_type": "stream",
     "text": [
      "5 > 1 es: True\n",
      "-10 > -1 es: True\n",
      "1000 >= 1000  es: True\n",
      "0.01 <= -1  es: False\n"
     ]
    }
   ],
   "source": [
    "expr = 5 > 1\n",
    "print(f\"5 > 1 es: {expr}\")\n",
    "expr_2 = -10 < -1\n",
    "print(f\"-10 > -1 es: {expr_2}\")\n",
    "print(f\"{10**3} >= {1000}  es: {10**3 >= 1000}\")\n",
    "print(f\"{0.01} <= {-1}  es: {0.01 <= -1}\")"
   ]
  },
  {
   "cell_type": "markdown",
   "metadata": {},
   "source": [
    "Es posible utilizar estos operadores sobre distintos tipos de datos, por ejemplo comparar números con strings"
   ]
  },
  {
   "cell_type": "code",
   "execution_count": 12,
   "metadata": {},
   "outputs": [
    {
     "name": "stdout",
     "output_type": "stream",
     "text": [
      "False\n",
      "True\n"
     ]
    }
   ],
   "source": [
    "expr = 10 == '10'\n",
    "print(expr)\n",
    "expr_2 = 710 != '0710'\n",
    "print(expr_2)"
   ]
  },
  {
   "cell_type": "markdown",
   "metadata": {},
   "source": [
    "### Conectores Lógicos"
   ]
  },
  {
   "cell_type": "markdown",
   "metadata": {},
   "source": [
    "Existen además los conectores, los cuales permiten enlazar (conectar) dos o más expresiones, de modo que el valor de verdad, depende de los valores verdad individuales de cada expresión. Los conectores en python3 son los siguientes:\n",
    "\n",
    "* and\n",
    "* or\n",
    "* not\n",
    "* is\n",
    "* in\n",
    "\n",
    "Al igual que los operadores, estos evaluan su valor verdad en True o False. Son sumamente utilizados dentro de condiciones para realizar el control de flujo en un programa."
   ]
  },
  {
   "cell_type": "markdown",
   "metadata": {},
   "source": [
    "## Listas"
   ]
  },
  {
   "cell_type": "markdown",
   "metadata": {},
   "source": [
    "En python existe una cantidad considerable de estructuras de datos, una de las más importantes son las listas, las cuales son una secuencia ordenada y mutable de objetos. La sintaxis para definir listas es la siguiente:\n",
    "<h2><center>nombre_lista = [objeto_1, objeto_2, ..., objeto_n]</h2></center>\n",
    "\n",
    "\n"
   ]
  },
  {
   "cell_type": "code",
   "execution_count": 13,
   "metadata": {},
   "outputs": [
    {
     "name": "stdout",
     "output_type": "stream",
     "text": [
      "['Molly', 'Yako', 'Cuca', 'Concha', 'Alfi']\n"
     ]
    }
   ],
   "source": [
    "pug_names = ['Molly', 'Yako', 'Cuca', 'Concha', 'Alfi']\n",
    "print(pug_names)"
   ]
  },
  {
   "cell_type": "markdown",
   "metadata": {},
   "source": [
    "Es posible obtener objetos almacenados en una lista mediante el indice (su posición) de la siguiente forma:\n",
    "\n",
    "<h2><center>objeto_por_posicion = nombre_lista[indice]</h2></center>\n",
    "\n",
    "Es importante recordar que las posiciones de una lista empiezan desde 0"
   ]
  },
  {
   "cell_type": "code",
   "execution_count": 14,
   "metadata": {},
   "outputs": [
    {
     "name": "stdout",
     "output_type": "stream",
     "text": [
      "Molly\n",
      "Alfi\n"
     ]
    }
   ],
   "source": [
    "first_pug = pug_names[0]\n",
    "print(first_pug)\n",
    "last_pug = pug_names[4]\n",
    "print(last_pug)"
   ]
  },
  {
   "cell_type": "markdown",
   "metadata": {},
   "source": [
    "Es posible obtener el último elemento de una lista con el indice -1"
   ]
  },
  {
   "cell_type": "code",
   "execution_count": 15,
   "metadata": {},
   "outputs": [
    {
     "name": "stdout",
     "output_type": "stream",
     "text": [
      "Alfi\n"
     ]
    }
   ],
   "source": [
    "last_pug = pug_names[-1]\n",
    "print(last_pug)"
   ]
  },
  {
   "cell_type": "markdown",
   "metadata": {},
   "source": [
    "Cuando se dice que una llista es mutable, es porque al igual que una variable se puede alterar su estado. En el caso de las listas se pueden agregar, cambiar y eliminar elementos.\n",
    "\n",
    "* Agregar elementos: se utiliza el método append\n",
    "* Eliminar elemenetnos: se utiliza el método remove si se conoce el valor a eliminar o la función del\n",
    "* Cambiar elementos: se asigna un nuevo valor mediante el indice\n"
   ]
  },
  {
   "cell_type": "code",
   "execution_count": 16,
   "metadata": {},
   "outputs": [
    {
     "name": "stdout",
     "output_type": "stream",
     "text": [
      "['Molly', 'Yako', 'Cuca', 'Concha', 'Alfi']\n",
      "['Molly', 'Yako', 'Cuca', 'Concha', 'Alfi', 'Melvin']\n",
      "['Molly', 'Yako', 'Cuca', 'Concha', 'Alfi', 'Melvin', 'Cuca']\n"
     ]
    }
   ],
   "source": [
    "# Agregar un elemento\n",
    "print(pug_names)\n",
    "pug_names.append('Melvin')\n",
    "print(pug_names)\n",
    "pug_names.append('Cuca')\n",
    "print(pug_names)\n"
   ]
  },
  {
   "cell_type": "code",
   "execution_count": 26,
   "metadata": {},
   "outputs": [
    {
     "name": "stdout",
     "output_type": "stream",
     "text": [
      "['Molly', 'Jacko', 'Concha', 'Alfi', 'Melvin']\n"
     ]
    }
   ],
   "source": [
    "# Eliminar elementos\n",
    "pug_names.remove('Cuca')\n",
    "print(pug_names)"
   ]
  },
  {
   "cell_type": "code",
   "execution_count": null,
   "metadata": {},
   "outputs": [],
   "source": []
  },
  {
   "cell_type": "code",
   "execution_count": 24,
   "metadata": {},
   "outputs": [
    {
     "name": "stdout",
     "output_type": "stream",
     "text": [
      "['Molly', 'Jacko', 'Concha', 'Alfi', 'Melvin', 'Cuca']\n"
     ]
    }
   ],
   "source": [
    "# Cambiar elementos\n",
    "pug_names[1] = 'Jacko'\n",
    "print(pug_names)"
   ]
  },
  {
   "cell_type": "markdown",
   "metadata": {},
   "source": [
    "## El zen de python"
   ]
  },
  {
   "cell_type": "code",
   "execution_count": 18,
   "metadata": {},
   "outputs": [
    {
     "name": "stdout",
     "output_type": "stream",
     "text": [
      "The Zen of Python, by Tim Peters\n",
      "\n",
      "Beautiful is better than ugly.\n",
      "Explicit is better than implicit.\n",
      "Simple is better than complex.\n",
      "Complex is better than complicated.\n",
      "Flat is better than nested.\n",
      "Sparse is better than dense.\n",
      "Readability counts.\n",
      "Special cases aren't special enough to break the rules.\n",
      "Although practicality beats purity.\n",
      "Errors should never pass silently.\n",
      "Unless explicitly silenced.\n",
      "In the face of ambiguity, refuse the temptation to guess.\n",
      "There should be one-- and preferably only one --obvious way to do it.\n",
      "Although that way may not be obvious at first unless you're Dutch.\n",
      "Now is better than never.\n",
      "Although never is often better than *right* now.\n",
      "If the implementation is hard to explain, it's a bad idea.\n",
      "If the implementation is easy to explain, it may be a good idea.\n",
      "Namespaces are one honking great idea -- let's do more of those!\n"
     ]
    }
   ],
   "source": [
    "import this"
   ]
  },
  {
   "cell_type": "markdown",
   "metadata": {},
   "source": [
    "# Introducción a la programación con Python 3"
   ]
  },
  {
   "cell_type": "markdown",
   "metadata": {},
   "source": [
    "##  Elementos de lenguajes de programación"
   ]
  },
  {
   "cell_type": "markdown",
   "metadata": {},
   "source": [
    "* **Un programa** es un conjunto de instruccinoes que una vez ejecutadas realizarán una o varias tareas en una computadora\n",
    "    * Un programa contiene instrucciones elementales seleccionadas cuidadosamente que pueden ser realizadas por un procesador\n",
    "    * Se ha probado que para implementar cualquier algoritmo, son suficientes tres construcciones básicas para control de flujo:\n",
    "        1. Secuencial\n",
    "        2. Condicional\n",
    "        3. Ciclos iterativos\n",
    "    "
   ]
  },
  {
   "cell_type": "markdown",
   "metadata": {},
   "source": [
    "### Ejecución secuencial"
   ]
  },
  {
   "cell_type": "markdown",
   "metadata": {},
   "source": [
    "Consiste en ejecutar una instrucción y al terminar, realizar lo que indica el siguiente paso del algoritmo"
   ]
  },
  {
   "cell_type": "code",
   "execution_count": 25,
   "metadata": {},
   "outputs": [],
   "source": [
    "### Secuencias condicionales"
   ]
  },
  {
   "cell_type": "markdown",
   "metadata": {},
   "source": [
    "## Ejercicios\n",
    "1. Escribe un programa que tomando el como variables el año, identificador y descripcion de los siguientes CVES:\n",
    "    * https://cve.mitre.org/cgi-bin/cvename.cgi?name=CVE-2017-0144\n",
    "    * https://cve.mitre.org/cgi-bin/cvename.cgi?name=CVE-2019-0708\n",
    "   Muestren la siguiente cadena de texto: \n",
    "        <h1><center>[+] CVE-<año>-<identificador>: Descripcion </h1></center>\n",
    "   Ejemplo:\n",
    "    <h1><center>[+] CVE-2014-0160: The (1) TLS and (2) DTLS... </center></h1>\n",
    "2. Escribe un programa que calcule el area de un triangulo equilatero\n"
   ]
  },
  {
   "cell_type": "markdown",
   "metadata": {},
   "source": [
    "## Solución  - Ejercicio 1"
   ]
  },
  {
   "cell_type": "code",
   "execution_count": 19,
   "metadata": {},
   "outputs": [
    {
     "name": "stdout",
     "output_type": "stream",
     "text": [
      "[+] CVE-\n"
     ]
    }
   ],
   "source": [
    "print(\"[+] CVE-\")"
   ]
  },
  {
   "cell_type": "code",
   "execution_count": 20,
   "metadata": {},
   "outputs": [
    {
     "name": "stdout",
     "output_type": "stream",
     "text": [
      "[+] CVE-2017\n"
     ]
    }
   ],
   "source": [
    "year = 2017\n",
    "print(f\"[+] CVE-{year}\")"
   ]
  },
  {
   "cell_type": "code",
   "execution_count": 21,
   "metadata": {},
   "outputs": [
    {
     "name": "stdout",
     "output_type": "stream",
     "text": [
      "[+] CVE-2017-0\n"
     ]
    }
   ],
   "source": [
    "year = 2017\n",
    "print(f\"[+] CVE-{year}-0\")"
   ]
  },
  {
   "cell_type": "code",
   "execution_count": 22,
   "metadata": {},
   "outputs": [
    {
     "name": "stdout",
     "output_type": "stream",
     "text": [
      "[+] CVE-2017-0144\n"
     ]
    }
   ],
   "source": [
    "year = 2017\n",
    "vuln_id = 144\n",
    "print(f\"[+] CVE-{year}-0{vuln_id}\")"
   ]
  },
  {
   "cell_type": "code",
   "execution_count": 23,
   "metadata": {},
   "outputs": [
    {
     "name": "stdout",
     "output_type": "stream",
     "text": [
      "[+] CVE-2017-0144: The SMBv1 server in Microsoft Windows Vista SP2; Windows Server 2008 SP2 and R2 SP1; Windows 7 SP1; Windows 8.1; Windows Server 2012 Gold and R2; Windows RT 8.1; and Windows 10 Gold, 1511, and 1607; and Windows Server 2016 allows remote attackers to execute arbitrary code via crafted packets, aka \"Windows SMB Remote Code Execution Vulnerability.\" This vulnerability is different from those described in CVE-2017-0143, CVE-2017-0145, CVE-2017-0146, and CVE-2017-0148.\n",
      "\n"
     ]
    }
   ],
   "source": [
    "year = 2017\n",
    "vuln_id = 144\n",
    "description = \"\"\"The SMBv1 server in Microsoft Windows Vista SP2; Windows Server 2008 SP2 and R2 SP1; Windows 7 SP1; Windows 8.1; Windows Server 2012 Gold and R2; Windows RT 8.1; and Windows 10 Gold, 1511, and 1607; and Windows Server 2016 allows remote attackers to execute arbitrary code via crafted packets, aka \"Windows SMB Remote Code Execution Vulnerability.\" This vulnerability is different from those described in CVE-2017-0143, CVE-2017-0145, CVE-2017-0146, and CVE-2017-0148.\n",
    "\"\"\"\n",
    "print(f\"[+] CVE-{year}-0{vuln_id}: {description}\")"
   ]
  },
  {
   "cell_type": "code",
   "execution_count": null,
   "metadata": {},
   "outputs": [],
   "source": []
  },
  {
   "cell_type": "code",
   "execution_count": null,
   "metadata": {},
   "outputs": [],
   "source": []
  }
 ],
 "metadata": {
  "kernelspec": {
   "display_name": "Python 3",
   "language": "python",
   "name": "python3"
  },
  "language_info": {
   "codemirror_mode": {
    "name": "ipython",
    "version": 3
   },
   "file_extension": ".py",
   "mimetype": "text/x-python",
   "name": "python",
   "nbconvert_exporter": "python",
   "pygments_lexer": "ipython3",
   "version": "3.7.6"
  }
 },
 "nbformat": 4,
 "nbformat_minor": 4
}
